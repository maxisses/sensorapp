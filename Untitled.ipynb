{
 "cells": [
  {
   "cell_type": "code",
   "execution_count": 1,
   "id": "assured-assistant",
   "metadata": {},
   "outputs": [],
   "source": [
    "import json"
   ]
  },
  {
   "cell_type": "code",
   "execution_count": 2,
   "id": "dangerous-spelling",
   "metadata": {},
   "outputs": [
    {
     "data": {
      "text/plain": [
       "{'predictions': [{'fields': ['prediction', 'probability'],\n",
       "   'values': [['lying', [0.0, 1.0, 0.0]]]}]}"
      ]
     },
     "execution_count": 2,
     "metadata": {},
     "output_type": "execute_result"
    }
   ],
   "source": [
    "{'predictions': [{'fields': ['prediction', 'probability'], 'values': [['lying', [0.0, 1.0, 0.0]]]}]}"
   ]
  },
  {
   "cell_type": "code",
   "execution_count": 3,
   "id": "fallen-intellectual",
   "metadata": {},
   "outputs": [],
   "source": [
    "blub = {'predictions': [{'fields': ['prediction', 'probability'], 'values': [['lying', [0.0, 1.0, 0.0]]]}]}"
   ]
  },
  {
   "cell_type": "code",
   "execution_count": 4,
   "id": "stainless-cable",
   "metadata": {},
   "outputs": [
    {
     "data": {
      "text/plain": [
       "{'predictions': [{'fields': ['prediction', 'probability'],\n",
       "   'values': [['lying', [0.0, 1.0, 0.0]]]}]}"
      ]
     },
     "execution_count": 4,
     "metadata": {},
     "output_type": "execute_result"
    }
   ],
   "source": [
    "blub"
   ]
  },
  {
   "cell_type": "code",
   "execution_count": 5,
   "id": "powerful-premises",
   "metadata": {},
   "outputs": [
    {
     "data": {
      "text/plain": [
       "dict"
      ]
     },
     "execution_count": 5,
     "metadata": {},
     "output_type": "execute_result"
    }
   ],
   "source": [
    "type(blub)"
   ]
  },
  {
   "cell_type": "code",
   "execution_count": 8,
   "id": "worldwide-mattress",
   "metadata": {},
   "outputs": [],
   "source": [
    "time_window_start = 234234.3"
   ]
  },
  {
   "cell_type": "code",
   "execution_count": 9,
   "id": "binary-venezuela",
   "metadata": {},
   "outputs": [
    {
     "data": {
      "text/plain": [
       "['lying', 0.0, 1.0, 0.0, 234234.3]"
      ]
     },
     "execution_count": 9,
     "metadata": {},
     "output_type": "execute_result"
    }
   ],
   "source": [
    "[blub[\"predictions\"][0][\"values\"][0][0],  *blub[\"predictions\"][0][\"values\"][0][1], time_window_start]"
   ]
  },
  {
   "cell_type": "code",
   "execution_count": 7,
   "id": "equivalent-developer",
   "metadata": {},
   "outputs": [
    {
     "ename": "NameError",
     "evalue": "name 'json_dump' is not defined",
     "output_type": "error",
     "traceback": [
      "\u001b[0;31m---------------------------------------------------------------------------\u001b[0m",
      "\u001b[0;31mNameError\u001b[0m                                 Traceback (most recent call last)",
      "\u001b[0;32m<ipython-input-7-dc10245fe285>\u001b[0m in \u001b[0;36m<module>\u001b[0;34m\u001b[0m\n\u001b[0;32m----> 1\u001b[0;31m \u001b[0mjson_dump\u001b[0m\u001b[0;34m\u001b[0m\u001b[0;34m\u001b[0m\u001b[0m\n\u001b[0m",
      "\u001b[0;31mNameError\u001b[0m: name 'json_dump' is not defined"
     ]
    }
   ],
   "source": [
    "json_dump"
   ]
  },
  {
   "cell_type": "code",
   "execution_count": 9,
   "id": "charged-cologne",
   "metadata": {},
   "outputs": [
    {
     "data": {
      "text/plain": [
       "'{'"
      ]
     },
     "execution_count": 9,
     "metadata": {},
     "output_type": "execute_result"
    }
   ],
   "source": [
    "json_dump"
   ]
  },
  {
   "cell_type": "code",
   "execution_count": null,
   "id": "pretty-french",
   "metadata": {},
   "outputs": [],
   "source": []
  }
 ],
 "metadata": {
  "kernelspec": {
   "display_name": "Python 3",
   "language": "python",
   "name": "python3"
  },
  "language_info": {
   "codemirror_mode": {
    "name": "ipython",
    "version": 3
   },
   "file_extension": ".py",
   "mimetype": "text/x-python",
   "name": "python",
   "nbconvert_exporter": "python",
   "pygments_lexer": "ipython3",
   "version": "3.8.8"
  }
 },
 "nbformat": 4,
 "nbformat_minor": 5
}
