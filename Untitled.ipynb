{
 "cells": [
  {
   "cell_type": "code",
   "execution_count": 1,
   "id": "controversial-ethnic",
   "metadata": {},
   "outputs": [],
   "source": [
    "import json"
   ]
  },
  {
   "cell_type": "code",
   "execution_count": 2,
   "id": "timely-convention",
   "metadata": {},
   "outputs": [
    {
     "data": {
      "text/plain": [
       "{'predictions': [{'fields': ['prediction', 'probability'],\n",
       "   'values': [['lying', [0.0, 1.0, 0.0]]]}]}"
      ]
     },
     "execution_count": 2,
     "metadata": {},
     "output_type": "execute_result"
    }
   ],
   "source": [
    "{'predictions': [{'fields': ['prediction', 'probability'], 'values': [['lying', [0.0, 1.0, 0.0]]]}]}"
   ]
  },
  {
   "cell_type": "code",
   "execution_count": 3,
   "id": "outstanding-apache",
   "metadata": {},
   "outputs": [],
   "source": [
    "blub = {'predictions': [{'fields': ['prediction', 'probability'], 'values': [['lying', [0.0, 1.0, 0.0]]]}]}"
   ]
  },
  {
   "cell_type": "code",
   "execution_count": 4,
   "id": "exact-participant",
   "metadata": {},
   "outputs": [
    {
     "data": {
      "text/plain": [
       "{'predictions': [{'fields': ['prediction', 'probability'],\n",
       "   'values': [['lying', [0.0, 1.0, 0.0]]]}]}"
      ]
     },
     "execution_count": 4,
     "metadata": {},
     "output_type": "execute_result"
    }
   ],
   "source": [
    "blub"
   ]
  },
  {
   "cell_type": "code",
   "execution_count": 5,
   "id": "correct-canberra",
   "metadata": {},
   "outputs": [
    {
     "data": {
      "text/plain": [
       "dict"
      ]
     },
     "execution_count": 5,
     "metadata": {},
     "output_type": "execute_result"
    }
   ],
   "source": [
    "type(blub)"
   ]
  },
  {
   "cell_type": "code",
   "execution_count": 8,
   "id": "regulated-commissioner",
   "metadata": {},
   "outputs": [],
   "source": [
    "time_window_start = 234234.3"
   ]
  },
  {
   "cell_type": "code",
   "execution_count": 9,
   "id": "advised-hanging",
   "metadata": {},
   "outputs": [
    {
     "data": {
      "text/plain": [
       "['lying', 0.0, 1.0, 0.0, 234234.3]"
      ]
     },
     "execution_count": 9,
     "metadata": {},
     "output_type": "execute_result"
    }
   ],
   "source": [
    "[blub[\"predictions\"][0][\"values\"][0][0],  *blub[\"predictions\"][0][\"values\"][0][1], time_window_start]"
   ]
  },
  {
   "cell_type": "code",
   "execution_count": 7,
   "id": "relative-valve",
   "metadata": {},
   "outputs": [
    {
     "ename": "NameError",
     "evalue": "name 'json_dump' is not defined",
     "output_type": "error",
     "traceback": [
      "\u001b[0;31m---------------------------------------------------------------------------\u001b[0m",
      "\u001b[0;31mNameError\u001b[0m                                 Traceback (most recent call last)",
      "\u001b[0;32m<ipython-input-7-dc10245fe285>\u001b[0m in \u001b[0;36m<module>\u001b[0;34m\u001b[0m\n\u001b[0;32m----> 1\u001b[0;31m \u001b[0mjson_dump\u001b[0m\u001b[0;34m\u001b[0m\u001b[0;34m\u001b[0m\u001b[0m\n\u001b[0m",
      "\u001b[0;31mNameError\u001b[0m: name 'json_dump' is not defined"
     ]
    }
   ],
   "source": [
    "json_dump"
   ]
  },
  {
   "cell_type": "code",
   "execution_count": 9,
   "id": "rural-board",
   "metadata": {},
   "outputs": [
    {
     "data": {
      "text/plain": [
       "'{'"
      ]
     },
     "execution_count": 9,
     "metadata": {},
     "output_type": "execute_result"
    }
   ],
   "source": [
    "json_dump"
   ]
  },
  {
   "cell_type": "code",
   "execution_count": 31,
   "id": "rational-guatemala",
   "metadata": {},
   "outputs": [],
   "source": [
    "from itertools import islice"
   ]
  },
  {
   "cell_type": "code",
   "execution_count": 74,
   "id": "loose-george",
   "metadata": {},
   "outputs": [],
   "source": [
    "data_cache = []\n",
    "current_users = []\n",
    "data_flat = ['maxisses', 'gyroscope', -0.015707963267948967, -0.05585053606381855, -0.010471975511965978, 1617695764650, 'android']\n",
    "data_flat_1 = ['jule', 'gyroscope', -0.015707963267948967, -0.05585053606381855, -0.010471975511965978, 1617695764650, 'android']\n",
    "data_flat_2 = ['mike', 'gyroscope', -0.015707963267948967, -0.05585053606381855, -0.010471975511965978, 1617695764650, 'android']\n",
    "post_to_api_freq = 5\n",
    "messages_to_aggregate = 10\n",
    "user_dict_cache = {}"
   ]
  },
  {
   "cell_type": "code",
   "execution_count": 75,
   "id": "exterior-electricity",
   "metadata": {},
   "outputs": [],
   "source": [
    "data_cache = [data_flat, data_flat_1, data_flat_2]"
   ]
  },
  {
   "cell_type": "code",
   "execution_count": 76,
   "id": "after-zoning",
   "metadata": {},
   "outputs": [],
   "source": [
    "current_users.append(data_flat[0])"
   ]
  },
  {
   "cell_type": "code",
   "execution_count": 77,
   "id": "excellent-twist",
   "metadata": {},
   "outputs": [],
   "source": [
    "current_users.append(data_flat_1[0])"
   ]
  },
  {
   "cell_type": "code",
   "execution_count": 78,
   "id": "tough-youth",
   "metadata": {},
   "outputs": [],
   "source": [
    "current_users.append(data_flat_1[0])"
   ]
  },
  {
   "cell_type": "code",
   "execution_count": 79,
   "id": "anticipated-round",
   "metadata": {},
   "outputs": [],
   "source": [
    "current_users.append(data_flat_2[0])"
   ]
  },
  {
   "cell_type": "code",
   "execution_count": 80,
   "id": "bacterial-division",
   "metadata": {},
   "outputs": [
    {
     "data": {
      "text/plain": [
       "['maxisses', 'jule', 'jule', 'mike']"
      ]
     },
     "execution_count": 80,
     "metadata": {},
     "output_type": "execute_result"
    }
   ],
   "source": [
    "current_users"
   ]
  },
  {
   "cell_type": "code",
   "execution_count": 81,
   "id": "invisible-toronto",
   "metadata": {},
   "outputs": [
    {
     "data": {
      "text/plain": [
       "['maxisses', 'mike', 'jule']"
      ]
     },
     "execution_count": 81,
     "metadata": {},
     "output_type": "execute_result"
    }
   ],
   "source": [
    "list(set(current_users))"
   ]
  },
  {
   "cell_type": "code",
   "execution_count": 20,
   "id": "given-paragraph",
   "metadata": {},
   "outputs": [],
   "source": [
    "def check_list(lst, x, n):\n",
    "    gen = (True for i in lst if i==x)\n",
    "    return next(islice(gen, n-1, None), False)"
   ]
  },
  {
   "cell_type": "code",
   "execution_count": 22,
   "id": "extended-school",
   "metadata": {},
   "outputs": [],
   "source": []
  },
  {
   "cell_type": "code",
   "execution_count": 21,
   "id": "thick-report",
   "metadata": {},
   "outputs": [
    {
     "name": "stdout",
     "output_type": "stream",
     "text": [
      "10 messages Cached for user: maxisses\n",
      "transforming 10 messages for ML model and Posting\n",
      "4 caches away from next post/inference to ML model\n"
     ]
    }
   ],
   "source": [
    "if check_list([item for subcache in data_cache for item in subcache], data_cache[0][0], messages_to_aggregate):\n",
    "        user_selection_cache = []\n",
    "        current_user = data_cache[0][0]\n",
    "        print(str(messages_to_aggregate) +\" messages Cached for user: \" + current_user)\n",
    "        remove_items = []\n",
    "        [user_selection_cache.append(item) if current_user == item[0] else remove_items.append(idx) for idx, item in enumerate(data_cache)]\n",
    "        print(\"transforming \" + str(messages_to_aggregate) + \" messages for ML model and Posting\") \n",
    "        if post_to_api_freq != 0:\n",
    "            post_to_api_freq -=1\n",
    "            print(str(post_to_api_freq) + \" caches away from next post/inference to ML model\")\n",
    "        else:\n",
    "            transform_and_post_messages(user_selection_cache)\n",
    "            post_to_api_freq = 10\n",
    "        data_cache = list(map(data_cache.__getitem__, remove_items))"
   ]
  },
  {
   "cell_type": "code",
   "execution_count": null,
   "id": "appointed-helping",
   "metadata": {},
   "outputs": [],
   "source": []
  }
 ],
 "metadata": {
  "kernelspec": {
   "display_name": "Python 3",
   "language": "python",
   "name": "python3"
  },
  "language_info": {
   "codemirror_mode": {
    "name": "ipython",
    "version": 3
   },
   "file_extension": ".py",
   "mimetype": "text/x-python",
   "name": "python",
   "nbconvert_exporter": "python",
   "pygments_lexer": "ipython3",
   "version": "3.8.8"
  }
 },
 "nbformat": 4,
 "nbformat_minor": 5
}
