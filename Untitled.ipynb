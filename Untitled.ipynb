{
 "cells": [
  {
   "cell_type": "code",
   "execution_count": 1,
   "id": "suspected-repeat",
   "metadata": {},
   "outputs": [],
   "source": [
    "import json"
   ]
  },
  {
   "cell_type": "code",
   "execution_count": 2,
   "id": "unknown-temperature",
   "metadata": {},
   "outputs": [
    {
     "data": {
      "text/plain": [
       "{'predictions': [{'fields': ['prediction', 'probability'],\n",
       "   'values': [['lying', [0.0, 1.0, 0.0]]]}]}"
      ]
     },
     "execution_count": 2,
     "metadata": {},
     "output_type": "execute_result"
    }
   ],
   "source": [
    "{'predictions': [{'fields': ['prediction', 'probability'], 'values': [['lying', [0.0, 1.0, 0.0]]]}]}"
   ]
  },
  {
   "cell_type": "code",
   "execution_count": 3,
   "id": "falling-aircraft",
   "metadata": {},
   "outputs": [],
   "source": [
    "blub = {'predictions': [{'fields': ['prediction', 'probability'], 'values': [['lying', [0.0, 1.0, 0.0]]]}]}"
   ]
  },
  {
   "cell_type": "code",
   "execution_count": 4,
   "id": "chronic-volleyball",
   "metadata": {},
   "outputs": [
    {
     "data": {
      "text/plain": [
       "{'predictions': [{'fields': ['prediction', 'probability'],\n",
       "   'values': [['lying', [0.0, 1.0, 0.0]]]}]}"
      ]
     },
     "execution_count": 4,
     "metadata": {},
     "output_type": "execute_result"
    }
   ],
   "source": [
    "blub"
   ]
  },
  {
   "cell_type": "code",
   "execution_count": 5,
   "id": "transparent-sauce",
   "metadata": {},
   "outputs": [
    {
     "data": {
      "text/plain": [
       "dict"
      ]
     },
     "execution_count": 5,
     "metadata": {},
     "output_type": "execute_result"
    }
   ],
   "source": [
    "type(blub)"
   ]
  },
  {
   "cell_type": "code",
   "execution_count": 8,
   "id": "accompanied-simulation",
   "metadata": {},
   "outputs": [],
   "source": [
    "time_window_start = 234234.3"
   ]
  },
  {
   "cell_type": "code",
   "execution_count": 9,
   "id": "congressional-sympathy",
   "metadata": {},
   "outputs": [
    {
     "data": {
      "text/plain": [
       "['lying', 0.0, 1.0, 0.0, 234234.3]"
      ]
     },
     "execution_count": 9,
     "metadata": {},
     "output_type": "execute_result"
    }
   ],
   "source": [
    "[blub[\"predictions\"][0][\"values\"][0][0],  *blub[\"predictions\"][0][\"values\"][0][1], time_window_start]"
   ]
  },
  {
   "cell_type": "code",
   "execution_count": 7,
   "id": "french-gambling",
   "metadata": {},
   "outputs": [
    {
     "ename": "NameError",
     "evalue": "name 'json_dump' is not defined",
     "output_type": "error",
     "traceback": [
      "\u001b[0;31m---------------------------------------------------------------------------\u001b[0m",
      "\u001b[0;31mNameError\u001b[0m                                 Traceback (most recent call last)",
      "\u001b[0;32m<ipython-input-7-dc10245fe285>\u001b[0m in \u001b[0;36m<module>\u001b[0;34m\u001b[0m\n\u001b[0;32m----> 1\u001b[0;31m \u001b[0mjson_dump\u001b[0m\u001b[0;34m\u001b[0m\u001b[0;34m\u001b[0m\u001b[0m\n\u001b[0m",
      "\u001b[0;31mNameError\u001b[0m: name 'json_dump' is not defined"
     ]
    }
   ],
   "source": [
    "json_dump"
   ]
  },
  {
   "cell_type": "code",
   "execution_count": 9,
   "id": "stupid-protein",
   "metadata": {},
   "outputs": [
    {
     "data": {
      "text/plain": [
       "'{'"
      ]
     },
     "execution_count": 9,
     "metadata": {},
     "output_type": "execute_result"
    }
   ],
   "source": [
    "json_dump"
   ]
  },
  {
   "cell_type": "code",
   "execution_count": 18,
   "id": "endangered-turner",
   "metadata": {},
   "outputs": [],
   "source": [
    "from itertools import islice"
   ]
  },
  {
   "cell_type": "code",
   "execution_count": 26,
   "id": "elect-issue",
   "metadata": {},
   "outputs": [],
   "source": [
    "data_flat = ['maxisses', 'gyroscope', -0.015707963267948967, -0.05585053606381855, -0.010471975511965978, 1617695764650, 'android']\n",
    "data_flat_1 = ['jule', 'gyroscope', -0.015707963267948967, -0.05585053606381855, -0.010471975511965978, 1617695764650, 'android']\n",
    "data_flat_2 = ['mike', 'gyroscope', -0.015707963267948967, -0.05585053606381855, -0.010471975511965978, 1617695764650, 'android']\n",
    "post_to_api_freq = 5\n",
    "messages_to_aggregate = 10\n",
    "user_dict_cache = {}"
   ]
  },
  {
   "cell_type": "code",
   "execution_count": 29,
   "id": "second-potter",
   "metadata": {},
   "outputs": [],
   "source": [
    "user_dict_cache[data_flat[0]] = data_flat[1:len(data_flat)]"
   ]
  },
  {
   "cell_type": "code",
   "execution_count": 30,
   "id": "entitled-weekly",
   "metadata": {},
   "outputs": [
    {
     "data": {
      "text/plain": [
       "{'maxisses': ['gyroscope',\n",
       "  -0.015707963267948967,\n",
       "  -0.05585053606381855,\n",
       "  -0.010471975511965978,\n",
       "  1617695764650,\n",
       "  'android']}"
      ]
     },
     "execution_count": 30,
     "metadata": {},
     "output_type": "execute_result"
    }
   ],
   "source": [
    "user_dict_cache"
   ]
  },
  {
   "cell_type": "code",
   "execution_count": 20,
   "id": "grave-winner",
   "metadata": {},
   "outputs": [],
   "source": [
    "def check_list(lst, x, n):\n",
    "    gen = (True for i in lst if i==x)\n",
    "    return next(islice(gen, n-1, None), False)"
   ]
  },
  {
   "cell_type": "code",
   "execution_count": 22,
   "id": "statistical-biography",
   "metadata": {},
   "outputs": [],
   "source": []
  },
  {
   "cell_type": "code",
   "execution_count": 21,
   "id": "traditional-minimum",
   "metadata": {},
   "outputs": [
    {
     "name": "stdout",
     "output_type": "stream",
     "text": [
      "10 messages Cached for user: maxisses\n",
      "transforming 10 messages for ML model and Posting\n",
      "4 caches away from next post/inference to ML model\n"
     ]
    }
   ],
   "source": [
    "if check_list([item for subcache in data_cache for item in subcache], data_cache[0][0], messages_to_aggregate):\n",
    "        user_selection_cache = []\n",
    "        current_user = data_cache[0][0]\n",
    "        print(str(messages_to_aggregate) +\" messages Cached for user: \" + current_user)\n",
    "        remove_items = []\n",
    "        [user_selection_cache.append(item) if current_user == item[0] else remove_items.append(idx) for idx, item in enumerate(data_cache)]\n",
    "        print(\"transforming \" + str(messages_to_aggregate) + \" messages for ML model and Posting\") \n",
    "        if post_to_api_freq != 0:\n",
    "            post_to_api_freq -=1\n",
    "            print(str(post_to_api_freq) + \" caches away from next post/inference to ML model\")\n",
    "        else:\n",
    "            transform_and_post_messages(user_selection_cache)\n",
    "            post_to_api_freq = 10\n",
    "        data_cache = list(map(data_cache.__getitem__, remove_items))"
   ]
  },
  {
   "cell_type": "code",
   "execution_count": null,
   "id": "internal-commission",
   "metadata": {},
   "outputs": [],
   "source": []
  }
 ],
 "metadata": {
  "kernelspec": {
   "display_name": "Python 3",
   "language": "python",
   "name": "python3"
  },
  "language_info": {
   "codemirror_mode": {
    "name": "ipython",
    "version": 3
   },
   "file_extension": ".py",
   "mimetype": "text/x-python",
   "name": "python",
   "nbconvert_exporter": "python",
   "pygments_lexer": "ipython3",
   "version": "3.8.8"
  }
 },
 "nbformat": 4,
 "nbformat_minor": 5
}
